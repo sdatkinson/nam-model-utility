{
  "cells": [
    {
      "attachments": {},
      "cell_type": "markdown",
      "metadata": {
        "id": "Vjk8sJPuCGDM"
      },
      "source": [
        "# NAM model converter\n",
        "This converts old \"directory-style\" models to the new \"file style\" format.\n",
        "\n",
        "Steps:\n",
        "1. Upload your `config.json` and `weights.npy`.\n",
        "2. Run the cell.\n",
        "3. Download your converted file, `model.nam`! (You might have to refresh.) You can name it whatever you'd like 😀\n",
        "\n",
        "Enjoy! 🎸"
      ]
    },
    {
      "cell_type": "code",
      "execution_count": null,
      "metadata": {
        "id": "1OXMeaedBjpW"
      },
      "outputs": [],
      "source": [
        "import json\n",
        "import numpy as np\n",
        "\n",
        "with open(\"config.json\", \"r\") as fr:\n",
        "  with open(\"model.nam\", \"w\") as fw:\n",
        "    json.dump({\"weights\": np.load(\"weights.npy\").tolist(), **json.load(fr)}, fw, indent=4)\n"
      ]
    }
  ],
  "metadata": {
    "colab": {
      "provenance": []
    },
    "kernelspec": {
      "display_name": "nam",
      "language": "python",
      "name": "python3"
    },
    "language_info": {
      "codemirror_mode": {
        "name": "ipython",
        "version": 3
      },
      "file_extension": ".py",
      "mimetype": "text/x-python",
      "name": "python",
      "nbconvert_exporter": "python",
      "pygments_lexer": "ipython3",
      "version": "3.10.6"
    },
    "vscode": {
      "interpreter": {
        "hash": "920df60c69944ba95f8c12adb41fedfdc8090c370a20d39253c7705973dd37db"
      }
    }
  },
  "nbformat": 4,
  "nbformat_minor": 0
}
